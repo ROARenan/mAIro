{
 "cells": [
  {
   "cell_type": "markdown",
   "metadata": {},
   "source": [
    "![mario_gif](img/docs/Mario_Series_Logo.svg.png)\n",
    "# SUPER MARIO WORLD AI mAIro"
   ]
  },
  {
   "cell_type": "markdown",
   "metadata": {},
   "source": [
    "Este é o projeto para criação de uma AI capaz de jogar Super Mario World (primeriamente a fase Yoshi Island II)\n",
    "\n",
    "[Projeto Referencia](https://github.com/kleberandrade/mario-tensorflow)"
   ]
  },
  {
   "cell_type": "markdown",
   "metadata": {},
   "source": [
    "## Objetivo"
   ]
  },
  {
   "cell_type": "markdown",
   "metadata": {},
   "source": [
    "Conseguir demonstrar o domínio de técnias de relacionadas ao tema de Inteligência Artificial como aprendizado de máquina, visão computacional, interação entre o algoritimo e interface..."
   ]
  },
  {
   "cell_type": "markdown",
   "metadata": {},
   "source": [
    "## Ferramentas"
   ]
  },
  {
   "cell_type": "markdown",
   "metadata": {},
   "source": [
    "- SNES9X: emulador de super nitendo com uma interface simples e amigável com ótimo desempenho\n",
    "- Super Mario World ROM: arquivo do game para o emulador\n",
    "- Python 3: linguagem adotada\n",
    "- OpenCV: para a interpretação do que está ocorrendo na tela do jogo\n",
    "- Pyautogui: enviar os inputs do joystick controlado pela AI"
   ]
  },
  {
   "cell_type": "markdown",
   "metadata": {},
   "source": [
    "![mario_gif](img/docs/mariobugado.gif)\n",
    "\n",
    "Parece muita coisa, não é?\n",
    "\n",
    "Relaxa, vamos quebrar em partes para resolver."
   ]
  },
  {
   "cell_type": "markdown",
   "metadata": {},
   "source": [
    "### Importações e Instalações\n",
    "- [SNES9X](https://www.snes9x.com/downloads.php)\n",
    "- [Python 3](https://www.python.org/downloads/)\n",
    "\n",
    "*PACOTES*:\n",
    "- python -m pip install opencv-python\n",
    "- python -m pip install pillow\n"
   ]
  },
  {
   "cell_type": "markdown",
   "metadata": {},
   "source": [
    "## Implementação"
   ]
  },
  {
   "cell_type": "markdown",
   "metadata": {},
   "source": [
    "### Etapas e Explicação\n",
    "\n",
    "1. Configurar o ambiente\n",
    "1. Dar olhos para nossa AI\n",
    "1. Configurar os inputs\n",
    "1. Ajustar pesos e recompensa\n",
    "1. Multi-threading para treino da AI\n",
    "1. Treino da AI"
   ]
  },
  {
   "cell_type": "markdown",
   "metadata": {},
   "source": [
    "### Identificar o Mario na Tela\n",
    "\n",
    "Usando o OpenCV e exemplos de alguns possíveis estados para o Mario, é possível achar onde ele se encontra na tela e também o seu estado atual (PowerUps, Montado ou não no Yoshi, Pulando, Abaixado).\n",
    "\n",
    "[Lista de Softwares](https://smartone.ai/blog/top-10-open-source-data-labeling-tools-for-computer-vision/) para adicionar legendas nas imagens\n",
    "\n",
    "[Como nomear imagens de treino](https://research.aimultiple.com/computer-vision-training-data/)\n",
    "\n",
    "[Todas as Sprites do SMW](https://www.spriters-resource.com/snes/smarioworld/)"
   ]
  },
  {
   "cell_type": "markdown",
   "metadata": {},
   "source": []
  },
  {
   "cell_type": "markdown",
   "metadata": {},
   "source": [
    "#### Imagens para treinamento"
   ]
  },
  {
   "cell_type": "markdown",
   "metadata": {},
   "source": [
    "As imagens para treinar a AI foram categorizadas uma a uma usando uma ferramenta de \"annotations\" open source"
   ]
  },
  {
   "cell_type": "markdown",
   "metadata": {},
   "source": [
    "#### Identificar um Marinho"
   ]
  },
  {
   "cell_type": "code",
   "execution_count": 1,
   "metadata": {},
   "outputs": [
    {
     "name": "stdout",
     "output_type": "stream",
     "text": [
      "Arquivo renomeado: marinho_0.png -> marinho_0_mirror.png\n",
      "Arquivo renomeado: marinho_1.png -> marinho_1_mirror.png\n",
      "Arquivo renomeado: marinho_10.png -> marinho_10_mirror.png\n",
      "Arquivo renomeado: marinho_11.png -> marinho_11_mirror.png\n",
      "Arquivo renomeado: marinho_12.png -> marinho_12_mirror.png\n",
      "Arquivo renomeado: marinho_13.png -> marinho_13_mirror.png\n",
      "Arquivo renomeado: marinho_14.png -> marinho_14_mirror.png\n",
      "Arquivo renomeado: marinho_15.png -> marinho_15_mirror.png\n",
      "Arquivo renomeado: marinho_16.png -> marinho_16_mirror.png\n",
      "Arquivo renomeado: marinho_17.png -> marinho_17_mirror.png\n",
      "Arquivo renomeado: marinho_18.png -> marinho_18_mirror.png\n",
      "Arquivo renomeado: marinho_19.png -> marinho_19_mirror.png\n",
      "Arquivo renomeado: marinho_2.png -> marinho_2_mirror.png\n",
      "Arquivo renomeado: marinho_20.png -> marinho_20_mirror.png\n",
      "Arquivo renomeado: marinho_21.png -> marinho_21_mirror.png\n",
      "Arquivo renomeado: marinho_22.png -> marinho_22_mirror.png\n",
      "Arquivo renomeado: marinho_23.png -> marinho_23_mirror.png\n",
      "Arquivo renomeado: marinho_24.png -> marinho_24_mirror.png\n",
      "Arquivo renomeado: marinho_25.png -> marinho_25_mirror.png\n",
      "Arquivo renomeado: marinho_26.png -> marinho_26_mirror.png\n",
      "Arquivo renomeado: marinho_27.png -> marinho_27_mirror.png\n",
      "Arquivo renomeado: marinho_28.png -> marinho_28_mirror.png\n",
      "Arquivo renomeado: marinho_29.png -> marinho_29_mirror.png\n",
      "Arquivo renomeado: marinho_3.png -> marinho_3_mirror.png\n",
      "Arquivo renomeado: marinho_30.png -> marinho_30_mirror.png\n",
      "Arquivo renomeado: marinho_31.png -> marinho_31_mirror.png\n",
      "Arquivo renomeado: marinho_32.png -> marinho_32_mirror.png\n",
      "Arquivo renomeado: marinho_33.png -> marinho_33_mirror.png\n",
      "Arquivo renomeado: marinho_34.png -> marinho_34_mirror.png\n",
      "Arquivo renomeado: marinho_35.png -> marinho_35_mirror.png\n",
      "Arquivo renomeado: marinho_36.png -> marinho_36_mirror.png\n",
      "Arquivo renomeado: marinho_37.png -> marinho_37_mirror.png\n",
      "Arquivo renomeado: marinho_38.png -> marinho_38_mirror.png\n",
      "Arquivo renomeado: marinho_39.png -> marinho_39_mirror.png\n",
      "Arquivo renomeado: marinho_4.png -> marinho_4_mirror.png\n",
      "Arquivo renomeado: marinho_40.png -> marinho_40_mirror.png\n",
      "Arquivo renomeado: marinho_41.png -> marinho_41_mirror.png\n",
      "Arquivo renomeado: marinho_42.png -> marinho_42_mirror.png\n",
      "Arquivo renomeado: marinho_43.png -> marinho_43_mirror.png\n",
      "Arquivo renomeado: marinho_44.png -> marinho_44_mirror.png\n",
      "Arquivo renomeado: marinho_45.png -> marinho_45_mirror.png\n",
      "Arquivo renomeado: marinho_46.png -> marinho_46_mirror.png\n",
      "Arquivo renomeado: marinho_47.png -> marinho_47_mirror.png\n",
      "Arquivo renomeado: marinho_48.png -> marinho_48_mirror.png\n",
      "Arquivo renomeado: marinho_49.png -> marinho_49_mirror.png\n",
      "Arquivo renomeado: marinho_5.png -> marinho_5_mirror.png\n",
      "Arquivo renomeado: marinho_50.png -> marinho_50_mirror.png\n",
      "Arquivo renomeado: marinho_51.png -> marinho_51_mirror.png\n",
      "Arquivo renomeado: marinho_52.png -> marinho_52_mirror.png\n",
      "Arquivo renomeado: marinho_53.png -> marinho_53_mirror.png\n",
      "Arquivo renomeado: marinho_54.png -> marinho_54_mirror.png\n",
      "Arquivo renomeado: marinho_55.png -> marinho_55_mirror.png\n",
      "Arquivo renomeado: marinho_56.png -> marinho_56_mirror.png\n",
      "Arquivo renomeado: marinho_57.png -> marinho_57_mirror.png\n",
      "Arquivo renomeado: marinho_58.png -> marinho_58_mirror.png\n",
      "Arquivo renomeado: marinho_59.png -> marinho_59_mirror.png\n",
      "Arquivo renomeado: marinho_6.png -> marinho_6_mirror.png\n",
      "Arquivo renomeado: marinho_60.png -> marinho_60_mirror.png\n",
      "Arquivo renomeado: marinho_61.png -> marinho_61_mirror.png\n",
      "Arquivo renomeado: marinho_62.png -> marinho_62_mirror.png\n",
      "Arquivo renomeado: marinho_63.png -> marinho_63_mirror.png\n",
      "Arquivo renomeado: marinho_64.png -> marinho_64_mirror.png\n",
      "Arquivo renomeado: marinho_65.png -> marinho_65_mirror.png\n",
      "Arquivo renomeado: marinho_66.png -> marinho_66_mirror.png\n",
      "Arquivo renomeado: marinho_67.png -> marinho_67_mirror.png\n",
      "Arquivo renomeado: marinho_68.png -> marinho_68_mirror.png\n",
      "Arquivo renomeado: marinho_69.png -> marinho_69_mirror.png\n",
      "Arquivo renomeado: marinho_7.png -> marinho_7_mirror.png\n",
      "Arquivo renomeado: marinho_70.png -> marinho_70_mirror.png\n",
      "Arquivo renomeado: marinho_71.png -> marinho_71_mirror.png\n",
      "Arquivo renomeado: marinho_72.png -> marinho_72_mirror.png\n",
      "Arquivo renomeado: marinho_73.png -> marinho_73_mirror.png\n",
      "Arquivo renomeado: marinho_74.png -> marinho_74_mirror.png\n",
      "Arquivo renomeado: marinho_75.png -> marinho_75_mirror.png\n",
      "Arquivo renomeado: marinho_76.png -> marinho_76_mirror.png\n",
      "Arquivo renomeado: marinho_77.png -> marinho_77_mirror.png\n",
      "Arquivo renomeado: marinho_78.png -> marinho_78_mirror.png\n",
      "Arquivo renomeado: marinho_79.png -> marinho_79_mirror.png\n",
      "Arquivo renomeado: marinho_8.png -> marinho_8_mirror.png\n",
      "Arquivo renomeado: marinho_80.png -> marinho_80_mirror.png\n",
      "Arquivo renomeado: marinho_81.png -> marinho_81_mirror.png\n",
      "Arquivo renomeado: marinho_9.png -> marinho_9_mirror.png\n",
      "Arquivo renomeado: mario_0.png -> mario_0_mirror.png\n",
      "Arquivo renomeado: mario_1.png -> mario_1_mirror.png\n",
      "Arquivo renomeado: mario_10.png -> mario_10_mirror.png\n",
      "Arquivo renomeado: mario_11.png -> mario_11_mirror.png\n",
      "Arquivo renomeado: mario_12.png -> mario_12_mirror.png\n",
      "Arquivo renomeado: mario_13.png -> mario_13_mirror.png\n",
      "Arquivo renomeado: mario_14.png -> mario_14_mirror.png\n",
      "Arquivo renomeado: mario_15.png -> mario_15_mirror.png\n",
      "Arquivo renomeado: mario_16.png -> mario_16_mirror.png\n",
      "Arquivo renomeado: mario_17.png -> mario_17_mirror.png\n",
      "Arquivo renomeado: mario_18.png -> mario_18_mirror.png\n",
      "Arquivo renomeado: mario_19.png -> mario_19_mirror.png\n",
      "Arquivo renomeado: mario_2.png -> mario_2_mirror.png\n",
      "Arquivo renomeado: mario_20.png -> mario_20_mirror.png\n",
      "Arquivo renomeado: mario_21.png -> mario_21_mirror.png\n",
      "Arquivo renomeado: mario_22.png -> mario_22_mirror.png\n",
      "Arquivo renomeado: mario_23.png -> mario_23_mirror.png\n",
      "Arquivo renomeado: mario_24.png -> mario_24_mirror.png\n",
      "Arquivo renomeado: mario_25.png -> mario_25_mirror.png\n",
      "Arquivo renomeado: mario_26.png -> mario_26_mirror.png\n",
      "Arquivo renomeado: mario_27.png -> mario_27_mirror.png\n",
      "Arquivo renomeado: mario_28.png -> mario_28_mirror.png\n",
      "Arquivo renomeado: mario_29.png -> mario_29_mirror.png\n",
      "Arquivo renomeado: mario_3.png -> mario_3_mirror.png\n",
      "Arquivo renomeado: mario_30.png -> mario_30_mirror.png\n",
      "Arquivo renomeado: mario_31.png -> mario_31_mirror.png\n",
      "Arquivo renomeado: mario_32.png -> mario_32_mirror.png\n",
      "Arquivo renomeado: mario_33.png -> mario_33_mirror.png\n",
      "Arquivo renomeado: mario_34.png -> mario_34_mirror.png\n",
      "Arquivo renomeado: mario_35.png -> mario_35_mirror.png\n",
      "Arquivo renomeado: mario_36.png -> mario_36_mirror.png\n",
      "Arquivo renomeado: mario_37.png -> mario_37_mirror.png\n",
      "Arquivo renomeado: mario_38.png -> mario_38_mirror.png\n",
      "Arquivo renomeado: mario_39.png -> mario_39_mirror.png\n",
      "Arquivo renomeado: mario_4.png -> mario_4_mirror.png\n",
      "Arquivo renomeado: mario_40.png -> mario_40_mirror.png\n",
      "Arquivo renomeado: mario_41.png -> mario_41_mirror.png\n",
      "Arquivo renomeado: mario_42.png -> mario_42_mirror.png\n",
      "Arquivo renomeado: mario_43.png -> mario_43_mirror.png\n",
      "Arquivo renomeado: mario_44.png -> mario_44_mirror.png\n",
      "Arquivo renomeado: mario_45.png -> mario_45_mirror.png\n",
      "Arquivo renomeado: mario_46.png -> mario_46_mirror.png\n",
      "Arquivo renomeado: mario_47.png -> mario_47_mirror.png\n",
      "Arquivo renomeado: mario_48.png -> mario_48_mirror.png\n",
      "Arquivo renomeado: mario_49.png -> mario_49_mirror.png\n",
      "Arquivo renomeado: mario_5.png -> mario_5_mirror.png\n",
      "Arquivo renomeado: mario_50.png -> mario_50_mirror.png\n",
      "Arquivo renomeado: mario_51.png -> mario_51_mirror.png\n",
      "Arquivo renomeado: mario_52.png -> mario_52_mirror.png\n",
      "Arquivo renomeado: mario_53.png -> mario_53_mirror.png\n",
      "Arquivo renomeado: mario_54.png -> mario_54_mirror.png\n",
      "Arquivo renomeado: mario_55.png -> mario_55_mirror.png\n",
      "Arquivo renomeado: mario_6.png -> mario_6_mirror.png\n",
      "Arquivo renomeado: mario_7.png -> mario_7_mirror.png\n",
      "Arquivo renomeado: mario_8.png -> mario_8_mirror.png\n",
      "Arquivo renomeado: mario_9.png -> mario_9_mirror.png\n"
     ]
    }
   ],
   "source": [
    "import os\n",
    "\n",
    "def renomear_imagens(caminho_pasta):\n",
    "    \"\"\"Renomeia todas as imagens de uma pasta, adicionando '_mirror' ao final.\n",
    "\n",
    "    Args:\n",
    "        caminho_pasta (str): Caminho completo da pasta com as imagens.\n",
    "    \"\"\"\n",
    "\n",
    "    for arquivo in os.listdir(caminho_pasta):\n",
    "        caminho_completo = os.path.join(caminho_pasta, arquivo)\n",
    "\n",
    "        # Verifica se é um arquivo (não um diretório) e se a extensão está na lista de extensões de imagem\n",
    "        if os.path.isfile(caminho_completo):\n",
    "            extensoes_imagens = ['.jpg', '.jpeg', '.png', '.gif']  # Adicione mais extensões se necessário\n",
    "            if os.path.splitext(arquivo)[1].lower() in extensoes_imagens:\n",
    "                novo_nome = arquivo.replace('.', '_mirror.')\n",
    "                novo_caminho = os.path.join(caminho_pasta, novo_nome)\n",
    "                os.rename(caminho_completo, novo_caminho)\n",
    "                print(f\"Arquivo renomeado: {arquivo} -> {novo_nome}\")\n",
    "\n",
    "if __name__ == \"__main__\":\n",
    "    caminho = \"./img/cropped_sprites_mirror\"\n",
    "    renomear_imagens(caminho)"
   ]
  }
 ],
 "metadata": {
  "kernelspec": {
   "display_name": "Python 3",
   "language": "python",
   "name": "python3"
  },
  "language_info": {
   "codemirror_mode": {
    "name": "ipython",
    "version": 3
   },
   "file_extension": ".py",
   "mimetype": "text/x-python",
   "name": "python",
   "nbconvert_exporter": "python",
   "pygments_lexer": "ipython3",
   "version": "3.12.4"
  }
 },
 "nbformat": 4,
 "nbformat_minor": 2
}
