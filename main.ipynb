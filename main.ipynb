{
 "cells": [
  {
   "cell_type": "markdown",
   "metadata": {},
   "source": [
    "![mario_gif](img/Mario_Series_Logo.svg.png)\n",
    "# SUPER MARIO WORLD AI mAIro"
   ]
  },
  {
   "cell_type": "markdown",
   "metadata": {},
   "source": [
    "Este é o projeto para criação de uma AI capaz de jogar Super Mario World (primeriamente a fase Yoshi Island II)\n",
    "\n",
    "[Projeto Referencia](https://github.com/kleberandrade/mario-tensorflow)"
   ]
  },
  {
   "cell_type": "markdown",
   "metadata": {},
   "source": [
    "## Objetivo"
   ]
  },
  {
   "cell_type": "markdown",
   "metadata": {},
   "source": [
    "Conseguir demonstrar o domínio de técnias de relacionadas ao tema de Inteligência Artificial como aprendizado de máquina, visão computacional, interação entre o algoritimo e interface..."
   ]
  },
  {
   "cell_type": "markdown",
   "metadata": {},
   "source": [
    "## Ferramentas"
   ]
  },
  {
   "cell_type": "markdown",
   "metadata": {},
   "source": [
    "- SNES9X: emulador de super nitendo com uma interface simples e amigável com ótimo desempenho\n",
    "- Super Mario World ROM: arquivo do game para o emulador\n",
    "- Python 3: linguagem adotada\n",
    "- OpenCV: para a interpretação do que está ocorrendo na tela do jogo\n",
    "- Pyautogui: enviar os inputs do joystick controlado pela AI"
   ]
  },
  {
   "cell_type": "markdown",
   "metadata": {},
   "source": [
    "![mario_gif](img/mariobugado.gif)\n",
    "\n",
    "Parece muita coisa, não é?\n",
    "\n",
    "Relaxa, vamos quebrar em partes para resolver."
   ]
  },
  {
   "cell_type": "markdown",
   "metadata": {},
   "source": [
    "### Importações e Instalações\n",
    "- [SNES9X](https://www.snes9x.com/downloads.php)\n",
    "- [Python 3](https://www.python.org/downloads/)\n",
    "\n",
    "*PACOTES*:\n",
    "- python -m pip install opencv-python\n",
    "- python -m pip install pillow\n"
   ]
  },
  {
   "cell_type": "markdown",
   "metadata": {},
   "source": [
    "## Implementação"
   ]
  },
  {
   "cell_type": "markdown",
   "metadata": {},
   "source": [
    "### Etapas e Explicação\n",
    "\n",
    "1. Configurar o ambiente\n",
    "1. Dar olhos para nossa AI\n",
    "1. Configurar os inputs\n",
    "1. Ajustar pesos e recompensa\n",
    "1. Multi-threading para treino da AI\n",
    "1. Treino da AI"
   ]
  },
  {
   "cell_type": "markdown",
   "metadata": {},
   "source": [
    "### Identificar o Mario na Tela\n",
    "\n",
    "Usando o OpenCV e exemplos de alguns possíveis estados para o Mario, é possível achar onde ele se encontra na tela e também o seu estado atual (PowerUps, Montado ou não no Yoshi, Pulando, Abaixado).\n",
    "\n",
    "[Lista de Softwares](https://smartone.ai/blog/top-10-open-source-data-labeling-tools-for-computer-vision/) para adicionar legendas nas imagens\n",
    "\n",
    "[Como nomear imagens de treino](https://research.aimultiple.com/computer-vision-training-data/)\n",
    "\n",
    "[Todas as Sprites do SMW](https://www.spriters-resource.com/snes/smarioworld/)"
   ]
  },
  {
   "cell_type": "markdown",
   "metadata": {},
   "source": []
  },
  {
   "cell_type": "markdown",
   "metadata": {},
   "source": [
    "#### Imagens para treinamento"
   ]
  },
  {
   "cell_type": "markdown",
   "metadata": {},
   "source": []
  },
  {
   "cell_type": "markdown",
   "metadata": {},
   "source": [
    "## Recortador de imagems"
   ]
  }
 ],
 "metadata": {
  "kernelspec": {
   "display_name": "Python 3",
   "language": "python",
   "name": "python3"
  },
  "language_info": {
   "codemirror_mode": {
    "name": "ipython",
    "version": 3
   },
   "file_extension": ".py",
   "mimetype": "text/x-python",
   "name": "python",
   "nbconvert_exporter": "python",
   "pygments_lexer": "ipython3",
   "version": "3.12.2"
  }
 },
 "nbformat": 4,
 "nbformat_minor": 2
}
