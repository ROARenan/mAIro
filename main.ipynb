{
 "cells": [
  {
   "cell_type": "markdown",
   "metadata": {},
   "source": [
    "![mario_gif](img/Mario_Series_Logo.svg.png)\n",
    "# SUPER MARIO WORLD AI mAIro"
   ]
  },
  {
   "cell_type": "markdown",
   "metadata": {},
   "source": [
    "Este é o projeto para criação de uma AI capaz de jogar Super Mario World (primeriamente a fase Yoshi Island II)\n",
    "\n",
    "[Projeto Referencia](https://github.com/kleberandrade/mario-tensorflow)"
   ]
  },
  {
   "cell_type": "markdown",
   "metadata": {},
   "source": [
    "## Objetivo"
   ]
  },
  {
   "cell_type": "markdown",
   "metadata": {},
   "source": [
    "Conseguir demonstrar o domínio de técnias de relacionadas ao tema de Inteligência Artificial como aprendizado de máquina, visão computacional, interação entre o algoritimo e interface..."
   ]
  },
  {
   "cell_type": "markdown",
   "metadata": {},
   "source": [
    "## Ferramentas"
   ]
  },
  {
   "cell_type": "markdown",
   "metadata": {},
   "source": [
    "- SNES9X: emulador de super nitendo com uma interface simples e amigável com ótimo desempenho\n",
    "- Super Mario World ROM: arquivo do game para o emulador\n",
    "- Python 3: linguagem adotada\n",
    "- OpenCV: para a interpretação do que está ocorrendo na tela do jogo\n",
    "- Pyautogui: enviar os inputs do joystick controlado pela AI"
   ]
  },
  {
   "cell_type": "markdown",
   "metadata": {},
   "source": [
    "![mario_gif](img/mariobugado.gif)\n",
    "\n",
    "Parece muita coisa, não é?\n",
    "\n",
    "Relaxa, vamos quebrar em partes para resolver."
   ]
  },
  {
   "cell_type": "markdown",
   "metadata": {},
   "source": [
    "### Importações e Instalações\n",
    "- [SNES9X](https://www.snes9x.com/downloads.php)\n",
    "- [Python 3](https://www.python.org/downloads/)\n",
    "\n",
    "*PACOTES*:\n",
    "- python -m pip install opencv-python\n",
    "- python -m pip install pillow\n"
   ]
  },
  {
   "cell_type": "markdown",
   "metadata": {},
   "source": [
    "## Implementação"
   ]
  },
  {
   "cell_type": "markdown",
   "metadata": {},
   "source": [
    "### Etapas e Explicação\n",
    "\n",
    "1. Configurar o ambiente\n",
    "1. Dar olhos para nossa AI\n",
    "1. Configurar os inputs\n",
    "1. Ajustar pesos e recompensa\n",
    "1. Multi-threading para treino da AI\n",
    "1. Treino da AI"
   ]
  },
  {
   "cell_type": "markdown",
   "metadata": {},
   "source": [
    "### Identificar o Mario na Tela\n",
    "\n",
    "Usando o OpenCV e exemplos de alguns possíveis estados para o Mario, é possível achar onde ele se encontra na tela e também o seu estado atual (PowerUps, Montado ou não no Yoshi, Pulando, Abaixado).\n",
    "\n",
    "[Lista de Softwares](https://smartone.ai/blog/top-10-open-source-data-labeling-tools-for-computer-vision/) para adicionar legendas nas imagens\n",
    "\n",
    "[Como nomear imagens de treino](https://research.aimultiple.com/computer-vision-training-data/)\n",
    "\n",
    "[Todas as Sprites do SMW](https://www.spriters-resource.com/snes/smarioworld/)"
   ]
  },
  {
   "cell_type": "markdown",
   "metadata": {},
   "source": []
  },
  {
   "cell_type": "markdown",
   "metadata": {},
   "source": [
    "#### Imagens para treinamento"
   ]
  },
  {
   "cell_type": "markdown",
   "metadata": {},
   "source": [
    "As imagens para treinar a AI foram categorizadas uma a uma usando uma ferramenta de \"annotations\" open source"
   ]
  },
  {
   "cell_type": "markdown",
   "metadata": {},
   "source": [
    "#### Com as sprites categorizadas"
   ]
  },
  {
   "cell_type": "code",
   "execution_count": null,
   "metadata": {},
   "outputs": [],
   "source": [
    "import tensorflow as tf\n",
    "from tensorflow.keras.models import Sequential\n",
    "from tensorflow.keras.layers import Conv2D, MaxPooling2D, Flatten, Dense\n",
    "from tensorflow.keras.preprocessing.image import ImageDataGenerator\n",
    "\n",
    "# Configurar o gerador de imagens\n",
    "train_datagen = ImageDataGenerator(rescale=1./255)\n",
    "train_generator = train_datagen.flow_from_directory(\n",
    "    'path_to_sprites',  # Caminho para os sprites categorizados\n",
    "    target_size=(64, 64),  # Redimensione para o tamanho dos sprites\n",
    "    batch_size=32,\n",
    "    class_mode='categorical')\n",
    "\n",
    "# Criar um modelo CNN\n",
    "model = Sequential([\n",
    "    Conv2D(32, (3, 3), activation='relu', input_shape=(64, 64, 3)),\n",
    "    MaxPooling2D(pool_size=(2, 2)),\n",
    "    Conv2D(64, (3, 3), activation='relu'),\n",
    "    MaxPooling2D(pool_size=(2, 2)),\n",
    "    Flatten(),\n",
    "    Dense(128, activation='relu'),\n",
    "    Dense(num_classes, activation='softmax')  # num_classes = número de categorias de ações/estados do Mario\n",
    "])\n",
    "\n",
    "model.compile(optimizer='adam', loss='categorical_crossentropy', metrics=['accuracy'])\n",
    "\n",
    "# Treinar o modelo\n",
    "model.fit(train_generator, epochs=10)\n"
   ]
  },
  {
   "cell_type": "code",
   "execution_count": null,
   "metadata": {},
   "outputs": [],
   "source": [
    "from tensorflow.keras.preprocessing import image\n",
    "import numpy as np\n",
    "\n",
    "# Carregar e preparar a imagem de entrada\n",
    "img = image.load_img('path_to_print.png', target_size=(64, 64))\n",
    "img_array = image.img_to_array(img) / 255.0  # Normaliza a imagem\n",
    "img_array = np.expand_dims(img_array, axis=0)  # Adiciona uma dimensão extra para batch\n",
    "\n",
    "# Fazer a predição\n",
    "prediction = model.predict(img_array)\n",
    "print(\"Predição:\", np.argmax(prediction))\n"
   ]
  }
 ],
 "metadata": {
  "kernelspec": {
   "display_name": "Python 3",
   "language": "python",
   "name": "python3"
  },
  "language_info": {
   "codemirror_mode": {
    "name": "ipython",
    "version": 3
   },
   "file_extension": ".py",
   "mimetype": "text/x-python",
   "name": "python",
   "nbconvert_exporter": "python",
   "pygments_lexer": "ipython3",
   "version": "3.12.2"
  }
 },
 "nbformat": 4,
 "nbformat_minor": 2
}
